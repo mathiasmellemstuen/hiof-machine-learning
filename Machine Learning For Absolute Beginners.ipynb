{
    "cells": [
        {
            "cell_type": "markdown",
            "source": [
                "# Notater fra bok: Machine learning for absolute beginners\n",
                "\n",
                "## Akronymer\n",
                "\n",
                "|Forkortelse|Betydning|\n",
                "|-----------|---------|\n",
                "|AI|Artificial Intelligence|\n",
                "|NLP|Natural language processing|\n",
                "|SVM|Support Vector Machines|\n",
                "|PCA|Principle Component Analysis|\n",
                "|k-NN|k-Nearest Neighbours|\n",
                "|AUC|Area Under The Curve|\n",
                "|ROC|Receiver Operating Characteristic|\n",
                "|MAE|Mean Absolute Error|\n",
                "|RMSE|Root Mean Square Error|\n",
                "\n",
                "## Sammenligning av teknikker innenfor maskinlæring / Data mining\n",
                "\n",
                "|Teknikk|Maskinlæring|Vet hva input er| Vet hva output er|Metologi|\n",
                "|-------|----|----------------|------------------|--------|\n",
                "|Data mining|NEI|JA|NEI|Analyserer input for å generere en ukjent output|\n",
                "|Supervised learning|JA|JA|JA|Analyserer kombinasjonen av input og output for å forutse fremtidlige outputs basert på ny input data|\n",
                "|Unsupervised learning|JA|JA|NEI|Analyserer inputter for å generere en output, algoritmer kan være annerledes enn data ming|\n",
                "|Reinforced learning|JA|NEI|JA|Tilfeldig prøver og feiler mange input variabler for å produsere et akseptabelt output|\n",
                "\n",
                "Under kommer forklaringer til alle maskinlæringsmodellene som er nevnt i tabellen: \n",
                "\n",
                "## Supervised learning\n",
                "\n",
                "Supervised learning kan etterligne våres evne til å hente ut mønstere fra eksempler og bruke dette til å lage et gjentagende utfall. Input data skrives ofte som X (stor bokstav) og output data skrives som y (liten bokstav). Eksempel på en y variabel kan være koordinater til et rektangel rundt en person sitt hode. I denne modellen så kan man ikke bruke unlabeled data. Dataen som man feeder inn i modellen må ha en label.\n",
                "\n",
                "## Unsupervised learning\n",
                "\n",
                "Output varaiabelene til unsupervised learning er unlabeled. Kombinasjonene av input og output variabler er uvisst. Unsupervised learning fokuserer heller på å analysere relasjoner ellom input variabler og finner sjulte mønstere som kan bli brukt til å lage nye labels uansett hvilke output. Fordelen med unsupervised learning er at du finner mønstere som du ikke visste fantes innenfor input dataen. Eksempel hvor unsupervised learning blir brukt er i fraud detection, hvor de mest farlige angrepene er de som ennå ikke er oppdaget.\n",
                "\n",
                "## Semi-supervised learning\n",
                "En hybrid mellom unsupervised og supervised learning. Denne har en miks mellom labeled og unlabeled input data.\n",
                "\n",
                "## Reinforced learning\n",
                "Reinforced learning bygger på en model som tar feedback fra tilfedlig feiling og prøving og bruker erfaringen fra tidligere forsøk. Målet med reinforced learing er å oppnå et spesifikt mål/verdi i output med å trene seg opp med tilfeldig input verdier i store mengder og karaktersette hvor bra outputten blir.\n",
                "\n",
                "\n",
                "## Oppsett av data\n",
                "\n",
                "Det er vanlig å splitte opp data i training-data og test-data. Her er det vanlig å ha enten 70 deler av training data og 30 deler av testing data (70/30) eller 80/20. Dette er ikke en satt regel. I større datasett vil det kanskje gi mening og bruke noe rundt 90/10 fordi dette vil gi deg mere data og trene på og samtidig en del data og teste med. Før man splitter dataen er det veldig viktig at man randomiserer rekkefølgen av radene. Dette er for å fjerne uønskede biaser. "
            ],
            "metadata": {}
        }
    ],
    "metadata": {
        "orig_nbformat": 4,
        "language_info": {
            "name": "python",
            "version": "3.9.5",
            "mimetype": "text/x-python",
            "codemirror_mode": {
                "name": "ipython",
                "version": 3
            },
            "pygments_lexer": "ipython3",
            "nbconvert_exporter": "python",
            "file_extension": ".py"
        },
        "kernelspec": {
            "name": "python3",
            "display_name": "Python 3.9.5 64-bit"
        },
        "interpreter": {
            "hash": "31f2aee4e71d21fbe5cf8b01ff0e069b9275f58929596ceb00d14d90e3e16cd6"
        }
    },
    "nbformat": 4,
    "nbformat_minor": 2
}